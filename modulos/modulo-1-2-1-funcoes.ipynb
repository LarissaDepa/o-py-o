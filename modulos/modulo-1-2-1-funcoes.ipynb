{
 "cells": [
  {
   "cell_type": "markdown",
   "metadata": {},
   "source": [
    "<img src=\"../imagens/2.png\">\n",
    "\n",
    "## Revisando o conteúdo da semana!"
   ]
  },
  {
   "cell_type": "markdown",
   "metadata": {},
   "source": [
    "Um objeto de função é um valor que pode ser atribuído a uma variável ou passado como argumento. Por exemplo, `print_contact` é uma função que recebe como parâmetro dois objetos de funções chamados `fRegister` e `fTimeRegister`.\n",
    "As funções `fRegister` e `fTimeRegister` foram feitas para imprimir os dados de um contato e imprimir a data na qual aquele contato foi cadastrado, da uma olhadinha na definição delas:"
   ]
  },
  {
   "cell_type": "code",
   "execution_count": 2,
   "metadata": {},
   "outputs": [],
   "source": [
    "def print_contact(fRegister, fTimeRegister):\n",
    "    print_register()\n",
    "    print_update()"
   ]
  },
  {
   "cell_type": "code",
   "execution_count": 3,
   "metadata": {},
   "outputs": [],
   "source": [
    "def print_register():\n",
    "    print('***** Dados do contato: *****')\n",
    "    print('Nome: ', name)\n",
    "    print('Email: ', email)\n",
    "    print('Endereço: ', adress)\n",
    "    print('Ano de nascimento: ', birthYear)"
   ]
  },
  {
   "cell_type": "code",
   "execution_count": 4,
   "metadata": {},
   "outputs": [],
   "source": [
    "def print_update():\n",
    "    print('Atualizado em: ', updated)"
   ]
  },
  {
   "cell_type": "markdown",
   "metadata": {},
   "source": [
    "1) O que acontece se você tentar executar diretamente `print_contact()`? "
   ]
  },
  {
   "cell_type": "code",
   "execution_count": 5,
   "metadata": {},
   "outputs": [
    {
     "ename": "TypeError",
     "evalue": "print_contact() missing 2 required positional arguments: 'fRegister' and 'fTimeRegister'",
     "output_type": "error",
     "traceback": [
      "\u001b[1;31m---------------------------------------------------------------------------\u001b[0m",
      "\u001b[1;31mTypeError\u001b[0m                                 Traceback (most recent call last)",
      "Cell \u001b[1;32mIn [5], line 1\u001b[0m\n\u001b[1;32m----> 1\u001b[0m print_contact()\n",
      "\u001b[1;31mTypeError\u001b[0m: print_contact() missing 2 required positional arguments: 'fRegister' and 'fTimeRegister'"
     ]
    }
   ],
   "source": [
    "print_contact()\n",
    "#Ocorreu um erro, pois está faltando passar os argumentos 'fRegister' e 'fTimeRegister'"
   ]
  },
  {
   "cell_type": "code",
   "execution_count": 6,
   "metadata": {},
   "outputs": [
    {
     "name": "stdout",
     "output_type": "stream",
     "text": [
      "***** Dados do contato: *****\n"
     ]
    },
    {
     "ename": "NameError",
     "evalue": "name 'name' is not defined",
     "output_type": "error",
     "traceback": [
      "\u001b[1;31m---------------------------------------------------------------------------\u001b[0m",
      "\u001b[1;31mNameError\u001b[0m                                 Traceback (most recent call last)",
      "Cell \u001b[1;32mIn [6], line 1\u001b[0m\n\u001b[1;32m----> 1\u001b[0m print_contact(print_contact,print_register)\n",
      "Cell \u001b[1;32mIn [2], line 2\u001b[0m, in \u001b[0;36mprint_contact\u001b[1;34m(fRegister, fTimeRegister)\u001b[0m\n\u001b[0;32m      1\u001b[0m \u001b[38;5;28;01mdef\u001b[39;00m \u001b[38;5;21mprint_contact\u001b[39m(fRegister, fTimeRegister):\n\u001b[1;32m----> 2\u001b[0m     \u001b[43mprint_register\u001b[49m\u001b[43m(\u001b[49m\u001b[43m)\u001b[49m\n\u001b[0;32m      3\u001b[0m     print_update()\n",
      "Cell \u001b[1;32mIn [3], line 3\u001b[0m, in \u001b[0;36mprint_register\u001b[1;34m()\u001b[0m\n\u001b[0;32m      1\u001b[0m \u001b[38;5;28;01mdef\u001b[39;00m \u001b[38;5;21mprint_register\u001b[39m():\n\u001b[0;32m      2\u001b[0m     \u001b[38;5;28mprint\u001b[39m(\u001b[38;5;124m'\u001b[39m\u001b[38;5;124m***** Dados do contato: *****\u001b[39m\u001b[38;5;124m'\u001b[39m)\n\u001b[1;32m----> 3\u001b[0m     \u001b[38;5;28mprint\u001b[39m(\u001b[38;5;124m'\u001b[39m\u001b[38;5;124mNome: \u001b[39m\u001b[38;5;124m'\u001b[39m, \u001b[43mname\u001b[49m)\n\u001b[0;32m      4\u001b[0m     \u001b[38;5;28mprint\u001b[39m(\u001b[38;5;124m'\u001b[39m\u001b[38;5;124mEmail: \u001b[39m\u001b[38;5;124m'\u001b[39m, email)\n\u001b[0;32m      5\u001b[0m     \u001b[38;5;28mprint\u001b[39m(\u001b[38;5;124m'\u001b[39m\u001b[38;5;124mEndereço: \u001b[39m\u001b[38;5;124m'\u001b[39m, adress)\n",
      "\u001b[1;31mNameError\u001b[0m: name 'name' is not defined"
     ]
    }
   ],
   "source": [
    "print_contact(print_contact,print_register)"
   ]
  },
  {
   "cell_type": "markdown",
   "metadata": {},
   "source": [
    "2) O que você precisa fazer para `print_contact` funcione corretamente?\n",
    "\n",
    "> ##### Dica: preste atenção nas mensagens de erro, elas são ótimas guias!"
   ]
  },
  {
   "cell_type": "code",
   "execution_count": 2,
   "metadata": {},
   "outputs": [
    {
     "name": "stdout",
     "output_type": "stream",
     "text": [
      "***** Dados do contato: *****\n",
      "Nome:  Lara\n",
      "Email:  lara@gmail.com\n",
      "Endereço:  Salvador\n",
      "Ano de nascimento:  2022\n",
      "Atualizado em:  06/10/2022\n"
     ]
    },
    {
     "data": {
      "text/plain": [
       "(('Lara', 'lara@gmail.com', 'Salvador', '2022'), '06/10/2022')"
      ]
     },
     "execution_count": 2,
     "metadata": {},
     "output_type": "execute_result"
    }
   ],
   "source": [
    "from typing import Any\n",
    "\n",
    "\n",
    "name = input(\"Nome:\")\n",
    "email = input(\"email:\")\n",
    "adress = input(\"adress:\")\n",
    "birthYear = input(\"bithYear:\")\n",
    "updated = input(\"Data de atualizaçãor:\")\n",
    "\n",
    "\n",
    "\n",
    "def print_register(name: str, email: str, adress: str, birthYear: int):\n",
    "    print(\"***** Dados do contato: *****\")\n",
    "    print(\"Nome: \", name)\n",
    "    print(\"Email: \", email)\n",
    "    print(\"Endereço: \", adress)\n",
    "    print(\"Ano de nascimento: \", birthYear)\n",
    "    return name, email, adress, birthYear\n",
    "\n",
    "\n",
    "fRegister = print_register(name, email, adress, birthYear)\n",
    "\n",
    "\n",
    "def print_update(updated: int):\n",
    "    print(\"Atualizado em: \", updated)\n",
    "    return updated\n",
    "\n",
    "\n",
    "fTimeRegister = print_update(updated)\n",
    "\n",
    "\n",
    "def print_contact(fRegister: Any, fTimeRegister: Any):\n",
    "    return fRegister, fTimeRegister\n",
    "\n",
    "\n",
    "print_contact(fRegister, fTimeRegister)\n"
   ]
  },
  {
   "cell_type": "markdown",
   "metadata": {},
   "source": [
    "3) Faça as mudanças necessárias para imprimir a **\"Data de aniversário\"** ao invés do **\"Ano de Nascimento\"**."
   ]
  },
  {
   "cell_type": "code",
   "execution_count": 3,
   "metadata": {},
   "outputs": [],
   "source": [
    "def print_register(name: str, email: str, adress: str, birthYear: int):\n",
    "    print(\"***** Dados do contato: *****\")\n",
    "    print(\"Nome: \", name)\n",
    "    print(\"Email: \", email)\n",
    "    print(\"Endereço: \", adress)\n",
    "    print(\"Data de aniversário: \", birthYear)\n",
    "    return name, email, adress, birthYear"
   ]
  },
  {
   "cell_type": "markdown",
   "metadata": {},
   "source": [
    "Você conhece a função `input()`? Execute o código abaixo pra saber como ela funciona:\n",
    "\n",
    "> ##### Dica: depois de digitar o valor desejado tecle enter"
   ]
  },
  {
   "cell_type": "code",
   "execution_count": 4,
   "metadata": {},
   "outputs": [
    {
     "name": "stdout",
     "output_type": "stream",
     "text": [
      "A soma é 30\n"
     ]
    }
   ],
   "source": [
    "num1 = input('Entre com o 1º valor: ')\n",
    "\n",
    "num2 = input('Entre com o 2º valor: ')\n",
    "\n",
    "soma = int(num1) + int(num2)\n",
    "\n",
    "print(\"A soma é\", soma)"
   ]
  },
  {
   "cell_type": "markdown",
   "metadata": {},
   "source": [
    "> ##### Saiba mais sobre `input()` no tutorial [Função input e print no Python: Entrada e Saída de dados](https://pythonacademy.com.br/blog/input-e-print-entrada-e-saida-de-dados-no-python)"
   ]
  },
  {
   "cell_type": "markdown",
   "metadata": {},
   "source": [
    "4) Agora que você ja sabe como `input()` funciona, faça uma função que solicite 4 notas e mostre a média."
   ]
  },
  {
   "cell_type": "code",
   "execution_count": 5,
   "metadata": {},
   "outputs": [
    {
     "name": "stdout",
     "output_type": "stream",
     "text": [
      "A média das notas é: 28.75\n"
     ]
    }
   ],
   "source": [
    "primeira_nota = float(input(\"Digite a primeira nota: \"))\n",
    "segunda_nota = float(input(\"Digite a segunda nota: \"))\n",
    "terceira_nota = float(input(\"Digite a terceira nota: \"))\n",
    "quarta_nota = float(input(\"Digite a quarta nota: \"))\n",
    "\n",
    "\n",
    "def media_notas(\n",
    "    primeira_nota: float, segunda_nota: float, terceira_nota: float, quarta_nota: float\n",
    "):\n",
    "    return (primeira_nota + segunda_nota + terceira_nota + quarta_nota )/ 4\n",
    "\n",
    "\n",
    "media = media_notas(primeira_nota, segunda_nota, terceira_nota, quarta_nota)\n",
    "print(\"A média é:\", media)"
   ]
  },
  {
   "cell_type": "markdown",
   "metadata": {},
   "source": [
    "---\n",
    "\n",
    "## Quais são as outras formas de praticar esses conceitos?\n",
    "\n",
    "<img src=\"https://media1.tenor.com/images/325243df1673b884f9a044797c1cfd00/tenor.gif\" align=\"left\">"
   ]
  },
  {
   "cell_type": "markdown",
   "metadata": {},
   "source": [
    "<Adicionar atividade de sua preferência para aplicação dos conceitos>"
   ]
  }
 ],
 "metadata": {
  "kernelspec": {
   "display_name": "Python 3.10.7 64-bit",
   "language": "python",
   "name": "python3"
  },
  "language_info": {
   "codemirror_mode": {
    "name": "ipython",
    "version": 3
   },
   "file_extension": ".py",
   "mimetype": "text/x-python",
   "name": "python",
   "nbconvert_exporter": "python",
   "pygments_lexer": "ipython3",
   "version": "3.10.7"
  },
  "vscode": {
   "interpreter": {
    "hash": "414fb26cd9fe5c40493aeb4bb41f6ae22809b700744f60b9013889ab1756770f"
   }
  }
 },
 "nbformat": 4,
 "nbformat_minor": 4
}
