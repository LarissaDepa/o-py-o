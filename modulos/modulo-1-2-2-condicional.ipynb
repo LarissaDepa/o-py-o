{
 "cells": [
  {
   "cell_type": "markdown",
   "metadata": {},
   "source": [
    "<img src=\"../imagens/3.png\">\n",
    "\n",
    "## Revisando o conteúdo da semana!"
   ]
  },
  {
   "cell_type": "markdown",
   "metadata": {},
   "source": [
    "1) Faça um algoritmo que solicite a entrada de um número e exiba o dia da semana correspondente (1-Domingo, 2- Segunda,...,7-Sábado), se receber um outro valor a mensagem \"Valor inválido\" deverá ser exibida."
   ]
  },
  {
   "cell_type": "code",
   "execution_count": 4,
   "metadata": {},
   "outputs": [
    {
     "name": "stdout",
     "output_type": "stream",
     "text": [
      "Sexta\n"
     ]
    }
   ],
   "source": [
    "numero = int(input(\"Digite um número de a 1 a 7: \"))\n",
    "\n",
    "\n",
    "if numero == 1:\n",
    "    print(\"Segunda\")\n",
    "elif numero == 2:\n",
    "    print(\"Terça\")\n",
    "elif numero == 3:\n",
    "    print(\"Quarta\")\n",
    "elif numero == 4:\n",
    "    print(\"Quinta\")\n",
    "elif numero == 5:\n",
    "    print(\"Sexta\")\n",
    "elif numero == 6:\n",
    "    print(\"Sábado\")\n",
    "elif numero == 7:\n",
    "    print(\"Domingo\")\n",
    "else:\n",
    "    print(\"Valor inválido\")\n"
   ]
  },
  {
   "cell_type": "markdown",
   "metadata": {},
   "source": [
    "2) Faça um algoritmo que pergunte a usuária em que ano ela nasceu e, caso ela seja maior de idade, imprima em que ano ela fez 18 anos. Caso ela seja menor de idade, imprima em qual ano ela completará 18 anos. \n",
    "\n",
    "Pra deixar a saída mais fácil de entender utilize mensagens como: **\"Você fez 18 anos em: \"**, **\"Você completará 18 anos em: \"**."
   ]
  },
  {
   "cell_type": "markdown",
   "metadata": {},
   "source": [
    "entender utilize mensagens como: **\"Você fez 18 anos em: \"**, **\"Você completará 18 anos em: \"**."
   ]
  },
  {
   "cell_type": "code",
   "execution_count": 5,
   "metadata": {},
   "outputs": [
    {
     "name": "stdout",
     "output_type": "stream",
     "text": [
      "Você fez 18 anos em 2013\n"
     ]
    }
   ],
   "source": [
    "ano_atual = int(input(\"Digite o ano atual: \"))\n",
    "ano_nascimento = int(input(\"Em que ano você nasceu?: \"))\n",
    "\n",
    "idade = ano_atual - ano_nascimento\n",
    "\n",
    "if idade >= 18:\n",
    "    print(\"Você fez 18 anos em\", ano_nascimento + 18)\n",
    "else:\n",
    "    print(\"Você completará 18 anos em\", ano_nascimento + 18)"
   ]
  },
  {
   "cell_type": "markdown",
   "metadata": {},
   "source": [
    "3) Faça um algoritmo que solicite as 3 notas da usuária, calcule a média e indique se a aluna foi aprovada ou reprovada (nota precisar ser **maior ou igual** à 7 para a aluna ser aprovada)."
   ]
  },
  {
   "cell_type": "code",
   "execution_count": 6,
   "metadata": {},
   "outputs": [
    {
     "name": "stdout",
     "output_type": "stream",
     "text": [
      "Você está reprovada.\n"
     ]
    }
   ],
   "source": [
    "nota_1 = int(input(\"Digite qual foi sua primeira nota : \"))\n",
    "nota_2 = int(input(\"Digite qual foi sua segunda nota : \"))\n",
    "nota_3 = int(input(\"Digite qual foi sua segunda nota : \"))\n",
    "\n",
    "\n",
    "media_notas = (nota_1 + nota_2 + nota_3) / 3\n",
    "\n",
    "if media_notas >= 7:\n",
    "    print(\"Você está aprovada!\")\n",
    "else:\n",
    "    print(\"Você está reprovada.\")\n"
   ]
  },
  {
   "cell_type": "markdown",
   "metadata": {},
   "source": [
    "4) Faça um algoritmo que pergunte a idade da usuária e depois disso exiba a classificação etária de acordo com as faixas de valores:\n",
    "    \n",
    "- Criança para 0 até 11 anos;\n",
    "- Adolescente para 12 até 18 anos;\n",
    "- Jovem para 19 até 24 anos;\n",
    "- Adulto para 25 até 40 anos;\n",
    "- Meia Idade para 41 até 60 anos;\n",
    "- Idoso acima de 60 anos."
   ]
  },
  {
   "cell_type": "code",
   "execution_count": 8,
   "metadata": {},
   "outputs": [
    {
     "name": "stdout",
     "output_type": "stream",
     "text": [
      "Adolescente\n"
     ]
    }
   ],
   "source": [
    "idade = int(input(\"Digite sua idade : \"))\n",
    "\n",
    "\n",
    "if idade <= 0 or idade <= 11:\n",
    "    print(\"Criança\")\n",
    "elif idade <= 12 or idade <= 18:\n",
    "    print(\"Adolescente\")\n",
    "elif idade <= 19 or idade <= 24:\n",
    "    print(\"Jovem\")\n",
    "elif idade <= 25 or idade <= 40:\n",
    "    print(\"Jovem\")\n",
    "elif idade <= 41 or idade <= 60:\n",
    "    print(\"Meia Idade\")\n",
    "elif idade > 60:\n",
    "    print(\"Idoso\")\n",
    "else:\n",
    "    print(\"Os números NÃO são iguals\")"
   ]
  },
  {
   "cell_type": "markdown",
   "metadata": {},
   "source": [
    "> ##### Você sabe como Python diferencia \"PyLadies\" de \"Pyladies\"? Dá só uma olhada nisso: [Comparação de Strings em Python - eXcript](http://excript.com/python/comparacao-de-string-python.html)"
   ]
  },
  {
   "cell_type": "markdown",
   "metadata": {},
   "source": [
    "4) Faça um programa que solicite a entrada de dois nomes e imprima uma mensagem informando se eles são iguais ou não.\n",
    "\n",
    "\n",
    "> ##### Dica: cuidado com o int no `input()`"
   ]
  },
  {
   "cell_type": "code",
   "execution_count": 7,
   "metadata": {},
   "outputs": [
    {
     "name": "stdout",
     "output_type": "stream",
     "text": [
      "Os números NÃO são iguals\n"
     ]
    }
   ],
   "source": [
    "numero_1 = int(input(\"Digite um número : \"))\n",
    "numero_2 = int(input(\"Digite um número : \"))\n",
    "\n",
    "if numero_1 == numero_2:\n",
    "    print(\"Os números são iguais\")\n",
    "else:\n",
    "    print(\"Os números NÃO são iguals\")"
   ]
  },
  {
   "cell_type": "markdown",
   "metadata": {},
   "source": [
    "---\n",
    "\n",
    "## Quais são as outras formas de praticar esses conceitos?\n",
    "\n",
    "<img src=\"https://media.giphy.com/media/LqZZp4y9ANZIcQzuXC/giphy.gif\" align=\"left\">"
   ]
  },
  {
   "cell_type": "code",
   "execution_count": null,
   "metadata": {},
   "outputs": [],
   "source": [
    "<Adicionar atividade de sua preferência para aplicação dos conceitos>"
   ]
  }
 ],
 "metadata": {
  "kernelspec": {
   "display_name": "Python 3.10.7 64-bit",
   "language": "python",
   "name": "python3"
  },
  "language_info": {
   "codemirror_mode": {
    "name": "ipython",
    "version": 3
   },
   "file_extension": ".py",
   "mimetype": "text/x-python",
   "name": "python",
   "nbconvert_exporter": "python",
   "pygments_lexer": "ipython3",
   "version": "3.10.7"
  },
  "vscode": {
   "interpreter": {
    "hash": "414fb26cd9fe5c40493aeb4bb41f6ae22809b700744f60b9013889ab1756770f"
   }
  }
 },
 "nbformat": 4,
 "nbformat_minor": 4
}
